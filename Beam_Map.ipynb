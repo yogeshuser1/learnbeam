{
  "nbformat": 4,
  "nbformat_minor": 0,
  "metadata": {
    "colab": {
      "name": "Beam Map.ipynb",
      "provenance": [],
      "authorship_tag": "ABX9TyO3tgI75zkFQy6/+FV5eleo",
      "include_colab_link": true
    },
    "kernelspec": {
      "name": "python3",
      "display_name": "Python 3"
    }
  },
  "cells": [
    {
      "cell_type": "markdown",
      "metadata": {
        "id": "view-in-github",
        "colab_type": "text"
      },
      "source": [
        "<a href=\"https://colab.research.google.com/github/yogeshuser1/learnbeam/blob/master/Beam_Map.ipynb\" target=\"_parent\"><img src=\"https://colab.research.google.com/assets/colab-badge.svg\" alt=\"Open In Colab\"/></a>"
      ]
    },
    {
      "cell_type": "code",
      "metadata": {
        "id": "eDr0dHM1JlMZ",
        "colab_type": "code",
        "colab": {}
      },
      "source": [
        "!{'pip install -q apache_beam'}"
      ],
      "execution_count": 0,
      "outputs": []
    },
    {
      "cell_type": "code",
      "metadata": {
        "id": "Q0HZrA_KJ5gZ",
        "colab_type": "code",
        "colab": {}
      },
      "source": [
        "!{'mkdir data'}"
      ],
      "execution_count": 0,
      "outputs": []
    },
    {
      "cell_type": "code",
      "metadata": {
        "id": "DCKSe2L0eWyT",
        "colab_type": "code",
        "colab": {
          "base_uri": "https://localhost:8080/",
          "height": 34
        },
        "outputId": "8f22462c-6e67-4b28-c894-3f65dc4dcbbc"
      },
      "source": [
        "ls"
      ],
      "execution_count": 9,
      "outputs": [
        {
          "output_type": "stream",
          "text": [
            "\u001b[0m\u001b[01;34mdata\u001b[0m/  dept-data.txt  \u001b[01;34msample_data\u001b[0m/\n"
          ],
          "name": "stdout"
        }
      ]
    },
    {
      "cell_type": "code",
      "metadata": {
        "id": "e2zPFRFeUbk5",
        "colab_type": "code",
        "colab": {}
      },
      "source": [
        "cd content/"
      ],
      "execution_count": 0,
      "outputs": []
    },
    {
      "cell_type": "markdown",
      "metadata": {
        "id": "YpZJ8r8VYtxu",
        "colab_type": "text"
      },
      "source": [
        "# **How the Map transform works**"
      ]
    },
    {
      "cell_type": "code",
      "metadata": {
        "id": "udwy3u6YTgas",
        "colab_type": "code",
        "outputId": "84613e79-c625-41df-c43d-b51a07c9b1e0",
        "colab": {
          "base_uri": "https://localhost:8080/",
          "height": 224
        }
      },
      "source": [
        "import apache_beam as beam\n",
        "\n",
        "def split_row(element):\n",
        "  return element.split(',')\n",
        "\n",
        "p = beam.Pipeline()\n",
        "\n",
        "attendance_count = (\n",
        "    p\n",
        "    |beam.io.ReadFromText('data/dept-data.txt')\n",
        "    |beam.Map(split_row)\n",
        "    |beam.io.WriteToText('data/output/output_new',file_name_suffix='.txt')\n",
        ")\n",
        "\n",
        "p.run()\n",
        "\n",
        "!{('head -5 data/dept-data.txt')}\n",
        "!{('head -5 data/output/output_new-00000-of-00001.txt')}"
      ],
      "execution_count": 10,
      "outputs": [
        {
          "output_type": "stream",
          "text": [
            "WARNING:apache_beam.runners.interactive.interactive_environment:Dependencies required for Interactive Beam PCollection visualization are not available, please use: `pip install apache-beam[interactive]` to install necessary dependencies to enable all data visualization features.\n"
          ],
          "name": "stderr"
        },
        {
          "output_type": "stream",
          "text": [
            "149633CM,Marco,10,Accounts,1-01-2019\r\n",
            "212539MU,Rebekah,10,Accounts,1-01-2019\r\n",
            "231555ZZ,Itoe,10,Accounts,1-01-2019\r\n",
            "503996WI,Edouard,10,Accounts,1-01-2019\r\n",
            "704275DC,Kyle,10,Accounts,1-01-2019\r\n",
            "['149633CM', 'Marco', '10', 'Accounts', '1-01-2019']\n",
            "['212539MU', 'Rebekah', '10', 'Accounts', '1-01-2019']\n",
            "['231555ZZ', 'Itoe', '10', 'Accounts', '1-01-2019']\n",
            "['503996WI', 'Edouard', '10', 'Accounts', '1-01-2019']\n",
            "['704275DC', 'Kyle', '10', 'Accounts', '1-01-2019']\n"
          ],
          "name": "stdout"
        }
      ]
    },
    {
      "cell_type": "markdown",
      "metadata": {
        "id": "m_PJpTDjZ1Od",
        "colab_type": "text"
      },
      "source": [
        "# **How FlatMap works**"
      ]
    },
    {
      "cell_type": "code",
      "metadata": {
        "id": "INbEmK3jZ_5T",
        "colab_type": "code",
        "colab": {
          "base_uri": "https://localhost:8080/",
          "height": 204
        },
        "outputId": "71fe36af-87c1-4a90-e966-365ebb449d24"
      },
      "source": [
        "import apache_beam as beam\n",
        "\n",
        "def split_row(element):\n",
        "  return element.split(',') \n",
        "\n",
        "p = beam.Pipeline()\n",
        "\n",
        "attendance_count = (\n",
        "    p\n",
        "    |beam.io.ReadFromText('data/dept-data.txt')\n",
        "    |beam.FlatMap(split_row)\n",
        "    |beam.io.WriteToText('data/output/flat_map_output',file_name_suffix='.txt')\n",
        "    \n",
        ")\n",
        "\n",
        "p.run()\n",
        "\n",
        "!{('head -5 data/dept-data.txt')}\n",
        "!{('head -5 data/output/flat_map_output-00000-of-00001.txt')}"
      ],
      "execution_count": 17,
      "outputs": [
        {
          "output_type": "stream",
          "text": [
            "WARNING:apache_beam.io.filebasedsink:Deleting 1 existing files in target path matching: -*-of-%(num_shards)05d\n"
          ],
          "name": "stderr"
        },
        {
          "output_type": "stream",
          "text": [
            "149633CM,Marco,10,Accounts,1-01-2019\r\n",
            "212539MU,Rebekah,10,Accounts,1-01-2019\r\n",
            "231555ZZ,Itoe,10,Accounts,1-01-2019\r\n",
            "503996WI,Edouard,10,Accounts,1-01-2019\r\n",
            "704275DC,Kyle,10,Accounts,1-01-2019\r\n",
            "149633CM\n",
            "Marco\n",
            "10\n",
            "Accounts\n",
            "1-01-2019\n"
          ],
          "name": "stdout"
        }
      ]
    },
    {
      "cell_type": "markdown",
      "metadata": {
        "id": "l8U0NNTNhJoD",
        "colab_type": "text"
      },
      "source": [
        "# **How Filter works**"
      ]
    },
    {
      "cell_type": "code",
      "metadata": {
        "id": "l2aAj7PfhSm2",
        "colab_type": "code",
        "colab": {
          "base_uri": "https://localhost:8080/",
          "height": 204
        },
        "outputId": "ba3edff6-0145-4228-a976-3328d2ea84ba"
      },
      "source": [
        "import apache_beam as beam\n",
        "\n",
        "p = beam.Pipeline()\n",
        "\n",
        "attendance_count = (\n",
        "    p\n",
        "    |beam.io.ReadFromText('data/dept-data.txt')\n",
        "    |beam.Map(lambda record: record.split(','))\n",
        "    |beam.Filter(lambda record: record[3] == 'Accounts')\n",
        "    |beam.io.WriteToText('data/output/filter_output',file_name_suffix='.txt')\n",
        ")\n",
        "\n",
        "p.run()\n",
        "!{('head -5 data/dept-data.txt')}\n",
        "!{('head -5 data/output/filter_output-00000-of-00001.txt')}"
      ],
      "execution_count": 23,
      "outputs": [
        {
          "output_type": "stream",
          "text": [
            "WARNING:apache_beam.io.filebasedsink:Deleting 1 existing files in target path matching: -*-of-%(num_shards)05d\n"
          ],
          "name": "stderr"
        },
        {
          "output_type": "stream",
          "text": [
            "149633CM,Marco,10,Accounts,1-01-2019\r\n",
            "212539MU,Rebekah,10,Accounts,1-01-2019\r\n",
            "231555ZZ,Itoe,10,Accounts,1-01-2019\r\n",
            "503996WI,Edouard,10,Accounts,1-01-2019\r\n",
            "704275DC,Kyle,10,Accounts,1-01-2019\r\n",
            "('Marco', 1)\n",
            "('Rebekah', 1)\n",
            "('Itoe', 1)\n",
            "('Edouard', 1)\n",
            "('Kyle', 1)\n"
          ],
          "name": "stdout"
        }
      ]
    },
    {
      "cell_type": "markdown",
      "metadata": {
        "id": "lIIOGIIRjvIr",
        "colab_type": "text"
      },
      "source": [
        "# **How CombinePerKey works**"
      ]
    },
    {
      "cell_type": "code",
      "metadata": {
        "id": "5KIY75KGj4nV",
        "colab_type": "code",
        "colab": {
          "base_uri": "https://localhost:8080/",
          "height": 187
        },
        "outputId": "31c864c8-d3a5-46be-ede1-03cfebe7ef6e"
      },
      "source": [
        "import apache_beam as beam\n",
        "\n",
        "p = beam.Pipeline()\n",
        "\n",
        "attendance_count = (\n",
        "    p\n",
        "    |beam.io.ReadFromText('data/dept-data.txt')\n",
        "    |beam.Map(lambda record: record.split(','))\n",
        "    |beam.Filter(lambda record: record[3] == 'Accounts')\n",
        "    |beam.Map(lambda record: (record[1],1))\n",
        "    |beam.CombinePerKey(sum)\n",
        "    |beam.io.WriteToText('data/output/combine_per_key_output',file_name_suffix='.txt')\n",
        ")\n",
        "\n",
        "p.run()\n",
        "!{('head -5 data/dept-data.txt')}\n",
        "!{('head -5 data/output/combine_per_key_output-00000-of-00001.txt')}"
      ],
      "execution_count": 24,
      "outputs": [
        {
          "output_type": "stream",
          "text": [
            "149633CM,Marco,10,Accounts,1-01-2019\r\n",
            "212539MU,Rebekah,10,Accounts,1-01-2019\r\n",
            "231555ZZ,Itoe,10,Accounts,1-01-2019\r\n",
            "503996WI,Edouard,10,Accounts,1-01-2019\r\n",
            "704275DC,Kyle,10,Accounts,1-01-2019\r\n",
            "('Marco', 31)\n",
            "('Rebekah', 31)\n",
            "('Itoe', 31)\n",
            "('Edouard', 31)\n",
            "('Kyle', 62)\n"
          ],
          "name": "stdout"
        }
      ]
    },
    {
      "cell_type": "code",
      "metadata": {
        "id": "QkIWoNZMkNq0",
        "colab_type": "code",
        "colab": {}
      },
      "source": [
        ""
      ],
      "execution_count": 0,
      "outputs": []
    }
  ]
}