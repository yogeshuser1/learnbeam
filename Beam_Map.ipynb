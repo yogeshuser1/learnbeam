{
  "nbformat": 4,
  "nbformat_minor": 0,
  "metadata": {
    "colab": {
      "name": "Beam Map.ipynb",
      "provenance": [],
      "authorship_tag": "ABX9TyOJs+0Ejg3BIfzekduONYvB",
      "include_colab_link": true
    },
    "kernelspec": {
      "name": "python3",
      "display_name": "Python 3"
    }
  },
  "cells": [
    {
      "cell_type": "markdown",
      "metadata": {
        "id": "view-in-github",
        "colab_type": "text"
      },
      "source": [
        "<a href=\"https://colab.research.google.com/github/yogeshuser1/learnbeam/blob/master/Beam_Map.ipynb\" target=\"_parent\"><img src=\"https://colab.research.google.com/assets/colab-badge.svg\" alt=\"Open In Colab\"/></a>"
      ]
    },
    {
      "cell_type": "code",
      "metadata": {
        "id": "eDr0dHM1JlMZ",
        "colab_type": "code",
        "colab": {}
      },
      "source": [
        "!{'pip install apache_beam'}"
      ],
      "execution_count": 0,
      "outputs": []
    },
    {
      "cell_type": "code",
      "metadata": {
        "id": "Q0HZrA_KJ5gZ",
        "colab_type": "code",
        "colab": {}
      },
      "source": [
        "!{'mkdir data'}"
      ],
      "execution_count": 0,
      "outputs": []
    },
    {
      "cell_type": "code",
      "metadata": {
        "id": "e2zPFRFeUbk5",
        "colab_type": "code",
        "colab": {}
      },
      "source": [
        "cd content/"
      ],
      "execution_count": 0,
      "outputs": []
    },
    {
      "cell_type": "markdown",
      "metadata": {
        "id": "YpZJ8r8VYtxu",
        "colab_type": "text"
      },
      "source": [
        "# **How the Map transform works**"
      ]
    },
    {
      "cell_type": "code",
      "metadata": {
        "id": "udwy3u6YTgas",
        "colab_type": "code",
        "outputId": "1da34ede-1dc2-4b49-e306-df0c9e08d92f",
        "colab": {
          "base_uri": "https://localhost:8080/",
          "height": 204
        }
      },
      "source": [
        "import apache_beam as beam\n",
        "\n",
        "def split_row(element):\n",
        "  return element.split(',')\n",
        "\n",
        "p = beam.Pipeline()\n",
        "\n",
        "attendance_count = (\n",
        "    p\n",
        "    |beam.io.ReadFromText('data/dept-data.txt')\n",
        "    |beam.Map(split_row)\n",
        "    |beam.io.WriteToText('data/output/output_new',file_name_suffix='.txt')\n",
        ")\n",
        "\n",
        "p.run()\n",
        "\n",
        "!{('head -5 data/dept-data.txt')}\n",
        "!{('head -5 data/output/output_new-00000-of-00001.txt')}"
      ],
      "execution_count": 36,
      "outputs": [
        {
          "output_type": "stream",
          "text": [
            "WARNING:apache_beam.io.filebasedsink:Deleting 1 existing files in target path matching: -*-of-%(num_shards)05d\n"
          ],
          "name": "stderr"
        },
        {
          "output_type": "stream",
          "text": [
            "149633CM,Marco,10,Accounts,1-01-2019\r\n",
            "212539MU,Rebekah,10,Accounts,1-01-2019\r\n",
            "231555ZZ,Itoe,10,Accounts,1-01-2019\r\n",
            "503996WI,Edouard,10,Accounts,1-01-2019\r\n",
            "704275DC,Kyle,10,Accounts,1-01-2019\r\n",
            "['149633CM', 'Marco', '10', 'Accounts', '1-01-2019']\n",
            "['212539MU', 'Rebekah', '10', 'Accounts', '1-01-2019']\n",
            "['231555ZZ', 'Itoe', '10', 'Accounts', '1-01-2019']\n",
            "['503996WI', 'Edouard', '10', 'Accounts', '1-01-2019']\n",
            "['704275DC', 'Kyle', '10', 'Accounts', '1-01-2019']\n"
          ],
          "name": "stdout"
        }
      ]
    },
    {
      "cell_type": "markdown",
      "metadata": {
        "id": "m_PJpTDjZ1Od",
        "colab_type": "text"
      },
      "source": [
        "# **How FilterMap works**"
      ]
    },
    {
      "cell_type": "code",
      "metadata": {
        "id": "INbEmK3jZ_5T",
        "colab_type": "code",
        "colab": {}
      },
      "source": [
        "import apache_beam as beam\n",
        "\n",
        "p = beam.Pipeline()\n",
        "\n",
        "attendance_count = (\n",
        "    p\n",
        "    \n",
        ")\n",
        "\n",
        "p.run()"
      ],
      "execution_count": 0,
      "outputs": []
    },
    {
      "cell_type": "code",
      "metadata": {
        "id": "MdpjjuJVaSB5",
        "colab_type": "code",
        "colab": {}
      },
      "source": [
        ""
      ],
      "execution_count": 0,
      "outputs": []
    }
  ]
}