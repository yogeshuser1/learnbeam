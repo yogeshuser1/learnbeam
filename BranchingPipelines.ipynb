{
  "nbformat": 4,
  "nbformat_minor": 0,
  "metadata": {
    "colab": {
      "name": "BranchingPipelines.ipynb",
      "provenance": [],
      "mount_file_id": "16BI-hqTwmSFKMsAJEltNvwI1nYPOqLck",
      "authorship_tag": "ABX9TyMOc9DOE3W4jndPmMTXpvrj",
      "include_colab_link": true
    },
    "kernelspec": {
      "name": "python3",
      "display_name": "Python 3"
    }
  },
  "cells": [
    {
      "cell_type": "markdown",
      "metadata": {
        "id": "view-in-github",
        "colab_type": "text"
      },
      "source": [
        "<a href=\"https://colab.research.google.com/github/yogeshuser1/learnbeam/blob/master/BranchingPipelines.ipynb\" target=\"_parent\"><img src=\"https://colab.research.google.com/assets/colab-badge.svg\" alt=\"Open In Colab\"/></a>"
      ]
    },
    {
      "cell_type": "code",
      "metadata": {
        "id": "kkO7ddjrG1Wi",
        "colab_type": "code",
        "colab": {}
      },
      "source": [
        "!{'pip install -q apache_beam'}"
      ],
      "execution_count": 0,
      "outputs": []
    },
    {
      "cell_type": "markdown",
      "metadata": {
        "id": "Iaob8okUHDQV",
        "colab_type": "text"
      },
      "source": [
        "# **Example of Pipeline Branching**"
      ]
    },
    {
      "cell_type": "code",
      "metadata": {
        "id": "JuYWF1h4HMkG",
        "colab_type": "code",
        "colab": {}
      },
      "source": [
        "import apache_beam as beam\n",
        "\n",
        "p = beam.Pipeline()\n",
        "\n",
        "input_collection = (\n",
        "    \n",
        "    p\n",
        "    |\"Read the input file\">>beam.io.ReadFromText(\"/content/drive/My Drive/data/sample_data/input/dept-data.txt\")\n",
        "    | \"Split Data\">>beam.Map(lambda record : record.split(','))\n",
        ")\n",
        "\n",
        "account_attendance = (\n",
        "    input_collection\n",
        "    |\"Filter on Account\">>beam.Filter(lambda record : record[3] == 'Accounts')\n",
        "    |\"Add 1 to Account\">>beam.Map(lambda record: (record[1],1))\n",
        "    |\"Count by Account\">>beam.CombinePerKey(sum)\n",
        "    |\"Write to Account folder\">>beam.io.WriteToText(\"/content/drive/My Drive/data/sample_data/output/account\",file_name_suffix=\".txt\")\n",
        ")\n",
        "\n",
        "hr_attendance = (\n",
        "    input_collection\n",
        "    |\"Filter on HR\">>beam.Filter(lambda record : record[3] == 'HR')\n",
        "    |\"Add 1 to HR\">>beam.Map(lambda record: (record[1],1))\n",
        "    |\"Count by HR\">>beam.CombinePerKey(sum)\n",
        "    |\"Write to HR folder\">>beam.io.WriteToText(\"/content/drive/My Drive/data/sample_data/output/hr\",file_name_suffix=\".txt\")\n",
        ")\n",
        "p.run()\n",
        "\n",
        "!{('head -5 \"/content/drive/My Drive/data/sample_data/input/dept-data.txt\"')}\n",
        "!{('head -5 \"/content/drive/My Drive/data/sample_data/output/account-00000-of-00001.txt\"')}\n",
        "!{('head -5 \"/content/drive/My Drive/data/sample_data/output/hr-00000-of-00001.txt\"')}"
      ],
      "execution_count": 0,
      "outputs": []
    },
    {
      "cell_type": "code",
      "metadata": {
        "id": "sdgjWN3jKFTl",
        "colab_type": "code",
        "colab": {}
      },
      "source": [
        ""
      ],
      "execution_count": 0,
      "outputs": []
    }
  ]
}