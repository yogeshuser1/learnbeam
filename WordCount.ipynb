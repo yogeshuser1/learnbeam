{
  "nbformat": 4,
  "nbformat_minor": 0,
  "metadata": {
    "colab": {
      "name": "WordCount.ipynb",
      "provenance": [],
      "mount_file_id": "1xiOB4_4xe31q2t2IK3Qvg-X5O9FkpYnp",
      "authorship_tag": "ABX9TyMWlCZiakiDmlgGYnPzo/jV",
      "include_colab_link": true
    },
    "kernelspec": {
      "name": "python3",
      "display_name": "Python 3"
    }
  },
  "cells": [
    {
      "cell_type": "markdown",
      "metadata": {
        "id": "view-in-github",
        "colab_type": "text"
      },
      "source": [
        "<a href=\"https://colab.research.google.com/github/yogeshuser1/learnbeam/blob/master/WordCount.ipynb\" target=\"_parent\"><img src=\"https://colab.research.google.com/assets/colab-badge.svg\" alt=\"Open In Colab\"/></a>"
      ]
    },
    {
      "cell_type": "code",
      "metadata": {
        "id": "PRvYfyC-_0f0",
        "colab_type": "code",
        "colab": {}
      },
      "source": [
        "!{'pip install -q apache_beam'}"
      ],
      "execution_count": 0,
      "outputs": []
    },
    {
      "cell_type": "markdown",
      "metadata": {
        "id": "nvDNAkrbAab1",
        "colab_type": "text"
      },
      "source": [
        "# **Word Count Example**"
      ]
    },
    {
      "cell_type": "code",
      "metadata": {
        "id": "ZWOQE7aeAOJt",
        "colab_type": "code",
        "colab": {}
      },
      "source": [
        "import apache_beam as beam\n",
        "import re\n",
        "\n",
        "p = beam.Pipeline()\n",
        "\n",
        "\n",
        "word_count = (\n",
        "    \n",
        "    p\n",
        "    | \"Read from the File\" >> beam.io.ReadFromText(\"/content/drive/My Drive/data/wordcount/input/data.txt\")\n",
        "    | \"Find Words\" >> beam.FlatMap(lambda line: re.findall(r\"[a-zA-Z']+\", line))\n",
        "    | \"Add 1 to the word\" >>  beam.Map(lambda word : (word, 1))\n",
        "    | \"Count the words\" >> beam.CombinePerKey(sum)\n",
        "    | \"Format results\" >> beam.Map(lambda word_count : str(word_count))\n",
        "    | \"Write results to File\" >> beam.io.WriteToText(\"/content/drive/My Drive/data/wordcount/output/word_count\",file_name_suffix='.txt')\n",
        "    \n",
        ")\n",
        "\n",
        "p.run()\n",
        "\n",
        "!{('head -5 \"/content/drive/My Drive/data/wordcount/input/data.txt\"')}\n",
        "!{('head -5 \"/content/drive/My Drive/data/wordcount/output/word_count-00000-of-00001.txt\"')}\n"
      ],
      "execution_count": 0,
      "outputs": []
    },
    {
      "cell_type": "code",
      "metadata": {
        "id": "-wJr36U7B4PH",
        "colab_type": "code",
        "colab": {}
      },
      "source": [
        "!ls \"/content/drive/My Drive/data\""
      ],
      "execution_count": 0,
      "outputs": []
    },
    {
      "cell_type": "code",
      "metadata": {
        "id": "kq3yD3TwD1zF",
        "colab_type": "code",
        "colab": {}
      },
      "source": [
        ""
      ],
      "execution_count": 0,
      "outputs": []
    }
  ]
}