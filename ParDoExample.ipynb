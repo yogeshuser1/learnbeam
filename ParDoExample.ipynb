{
  "nbformat": 4,
  "nbformat_minor": 0,
  "metadata": {
    "colab": {
      "name": "ParDoExample.ipynb",
      "provenance": [],
      "mount_file_id": "10xBshgmMy8eHZdO2GBg-prbT1KoGG-VD",
      "authorship_tag": "ABX9TyMV87Frj2d8wYpcGymKRuc/",
      "include_colab_link": true
    },
    "kernelspec": {
      "name": "python3",
      "display_name": "Python 3"
    }
  },
  "cells": [
    {
      "cell_type": "markdown",
      "metadata": {
        "id": "view-in-github",
        "colab_type": "text"
      },
      "source": [
        "<a href=\"https://colab.research.google.com/github/yogeshuser1/learnbeam/blob/master/ParDoExample.ipynb\" target=\"_parent\"><img src=\"https://colab.research.google.com/assets/colab-badge.svg\" alt=\"Open In Colab\"/></a>"
      ]
    },
    {
      "cell_type": "code",
      "metadata": {
        "id": "9Es7RC3UNBE-",
        "colab_type": "code",
        "colab": {}
      },
      "source": [
        "!{'pip install -q apache_beam'}"
      ],
      "execution_count": 0,
      "outputs": []
    },
    {
      "cell_type": "code",
      "metadata": {
        "id": "VsyxtrXoND88",
        "colab_type": "code",
        "colab": {}
      },
      "source": [
        "import apache_beam as beam\n",
        "\n",
        "class SplitData(beam.DoFn):\n",
        "\n",
        "  def process(self,element):\n",
        "    return [element.split(',')]\n",
        "\n",
        "class FilterByAcoountDept(beam.DoFn):\n",
        "\n",
        "  def process(self,element):\n",
        "    if element[3] == \"Accounts\":\n",
        "      return [element]\n",
        "\n",
        "p = beam.Pipeline()\n",
        "\n",
        "\n",
        "account_attendance = (\n",
        "    p\n",
        "    |\"Read the input file\">>beam.io.ReadFromText(\"/content/drive/My Drive/data/sample_data/input/dept-data.txt\")\n",
        "    |\"Split Data\">>beam.ParDo(SplitData())\n",
        "    |\"Filter on Account\">>beam.ParDo(FilterByAcoountDept())\n",
        "    |\"Write to Account folder\">>beam.io.WriteToText(\"/content/drive/My Drive/data/sample_data/output/account\",file_name_suffix=\".txt\")\n",
        ")\n",
        "\n",
        "\n",
        "p.run()\n",
        "\n",
        "!{('head -5 \"/content/drive/My Drive/data/sample_data/input/dept-data.txt\"')}\n",
        "!{('head -5 \"/content/drive/My Drive/data/sample_data/output/account-00000-of-00001.txt\"')}\n"
      ],
      "execution_count": 0,
      "outputs": []
    },
    {
      "cell_type": "code",
      "metadata": {
        "id": "A0z2tSySOim0",
        "colab_type": "code",
        "colab": {}
      },
      "source": [
        ""
      ],
      "execution_count": 0,
      "outputs": []
    }
  ]
}